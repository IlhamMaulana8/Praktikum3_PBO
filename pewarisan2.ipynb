{
  "nbformat": 4,
  "nbformat_minor": 0,
  "metadata": {
    "colab": {
      "provenance": [],
      "authorship_tag": "ABX9TyNFgGGNML+dSsiJMtBZfXJI",
      "include_colab_link": true
    },
    "kernelspec": {
      "name": "python3",
      "display_name": "Python 3"
    },
    "language_info": {
      "name": "python"
    }
  },
  "cells": [
    {
      "cell_type": "markdown",
      "metadata": {
        "id": "view-in-github",
        "colab_type": "text"
      },
      "source": [
        "<a href=\"https://colab.research.google.com/github/IlhamMaulana8/Praktikum3_PBO/blob/main/pewarisan2.ipynb\" target=\"_parent\"><img src=\"https://colab.research.google.com/assets/colab-badge.svg\" alt=\"Open In Colab\"/></a>"
      ]
    },
    {
      "cell_type": "code",
      "execution_count": 2,
      "metadata": {
        "colab": {
          "base_uri": "https://localhost:8080/"
        },
        "id": "cNV3rHcFKMqT",
        "outputId": "e250105e-8704-4f7c-b054-83587e98a6fc"
      },
      "outputs": [
        {
          "output_type": "stream",
          "name": "stdout",
          "text": [
            "{'brand': 'Nissan', 'model': 'GT-R R35', 'year': 2007, 'number_of_doors': 2, 'number_of_wheels': 4}\n",
            "{'brand': 'Honda', 'model': 'Beat', 'year': 2024, 'number_of_wheels': 2}\n",
            "vehicle is starting\n",
            "vehicle is starting\n"
          ]
        }
      ],
      "source": [
        "#make class Vehicle\n",
        "class Vehicle:\n",
        "\tdef __init__(self, brand, model, year):\n",
        "\t\tself.brand = brand\n",
        "\t\tself.model = model\n",
        "\t\tself.year = year\n",
        "\n",
        "#make methods\n",
        "\tdef start(self):\n",
        "\t\tprint(\"vehicle is starting\")\n",
        "\tdef stop(self):\n",
        "\t\tprint(\"vehicle is stopping\")\n",
        "#define sub class and make class Car (inheritance from Vehicle)\n",
        "# the super() to call method __init__() from class Vehicle\n",
        "class Car(Vehicle):\n",
        "\tdef __init__(self, brand, model, year, number_of_doors, number_of_wheels):\n",
        "\t\tsuper().__init__(brand, model, year)\n",
        "\t\tself.number_of_doors= number_of_doors\n",
        "\t\tself.number_of_wheels=number_of_wheels\n",
        "\n",
        "#make class Bike (inheritance from Vehicle)\n",
        "class Bike(Vehicle):\n",
        "\tdef __init__(self, brand, model, year, number_of_wheels):\n",
        "\t\tsuper().__init__(brand, model, year)\n",
        "\t\tself.number_of_wheels=number_of_wheels\n",
        "\n",
        "#make object\n",
        "car = Car(\"Nissan\", \"GT-R R35\", 2007, 2, 4)\n",
        "bike = Bike(\"Honda\", \"Beat\", 2024, 2)\n",
        "#print attribute dan method\n",
        "print(car.__dict__)\n",
        "print(bike.__dict__)\n",
        "car.start()\n",
        "bike.start()"
      ]
    }
  ]
}